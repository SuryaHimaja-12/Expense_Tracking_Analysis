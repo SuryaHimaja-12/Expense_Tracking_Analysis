{
 "cells": [
  {
   "cell_type": "code",
   "execution_count": 2,
   "id": "94998fbd-1e8c-49d6-84f5-aa807d2fcad6",
   "metadata": {},
   "outputs": [
    {
     "name": "stdout",
     "output_type": "stream",
     "text": [
      "Requirement already satisfied: mysql-connector-python in c:\\programdata\\anaconda3\\lib\\site-packages (9.3.0)\n",
      "Note: you may need to restart the kernel to use updated packages.\n"
     ]
    }
   ],
   "source": [
    "pip install mysql-connector-python\n"
   ]
  },
  {
   "cell_type": "code",
   "execution_count": 11,
   "id": "317aa9aa-c4ad-4e60-abfb-5c8dae2ddf11",
   "metadata": {},
   "outputs": [],
   "source": [
    "import mysql.connector\n",
    "import pandas as pd\n",
    "import matplotlib.pyplot as plt\n",
    "import seaborn as sns\n",
    "\n",
    "connection = mysql.connector.connect(\n",
    "    host=\"localhost\",\n",
    "    port=\"3306\",\n",
    "    user=\"root\",\n",
    "    password=\"himaja1212\",\n",
    "    database=\" expense_tracker\"\n",
    ")"
   ]
  },
  {
   "cell_type": "code",
   "execution_count": 4,
   "id": "c9dfc357-6258-4c36-9a98-d7c29e9d14ee",
   "metadata": {},
   "outputs": [],
   "source": [
    "#cursor is like a messeger between python and sql it helps to send commands in python to sql and results will be shown\n",
    "\n",
    "cursor=connection.cursor()\n",
    "\n",
    "cursor.execute(\"SHOW TABLES;\")\n",
    "\n"
   ]
  },
  {
   "cell_type": "code",
   "execution_count": 5,
   "id": "1a3d0738-e3c2-4456-9284-ce3f4ddcfb7c",
   "metadata": {},
   "outputs": [
    {
     "name": "stdout",
     "output_type": "stream",
     "text": [
      "('expenses',)\n"
     ]
    }
   ],
   "source": [
    "for table in cursor:\n",
    "    print(table)"
   ]
  },
  {
   "cell_type": "code",
   "execution_count": 6,
   "id": "cd4a66ef-78d8-4b61-a02b-bbdc59c2ca6f",
   "metadata": {},
   "outputs": [
    {
     "name": "stdout",
     "output_type": "stream",
     "text": [
      "   ID        date    title       category       account  amount currency  \\\n",
      "0   1  2024-08-11  Karthik   Bills & Fees  Savings Bank    45.0      INR   \n",
      "1   2  2024-08-10    Juice  Food & Drinks          Cash    40.0      INR   \n",
      "2   3  2024-08-09     Tire      Transport          Cash    10.0      INR   \n",
      "3   4  2024-08-07     Baba   Bills & Fees  Savings Bank   200.0      INR   \n",
      "4   5  2024-08-04   Reward   Bills & Fees   Salary Bank     4.0      INR   \n",
      "\n",
      "      type  transfer_amount transfer_currency to_account  receive_amount  \\\n",
      "0  EXPENSE              0.0              None       None             0.0   \n",
      "1  EXPENSE              0.0              None       None             0.0   \n",
      "2  EXPENSE              0.0              None       None             0.0   \n",
      "3  EXPENSE              0.0              None       None             0.0   \n",
      "4   INCOME              0.0              None       None             0.0   \n",
      "\n",
      "  receive_currency     description due_date  \n",
      "0             None  No-description     None  \n",
      "1             None  No-description     None  \n",
      "2             None  No-description     None  \n",
      "3             None  No-description     None  \n",
      "4             None  No-description     None  \n"
     ]
    },
    {
     "name": "stderr",
     "output_type": "stream",
     "text": [
      "C:\\Users\\ASUS\\AppData\\Local\\Temp\\ipykernel_9148\\3483726245.py:1: UserWarning: pandas only supports SQLAlchemy connectable (engine/connection) or database string URI or sqlite3 DBAPI2 connection. Other DBAPI2 objects are not tested. Please consider using SQLAlchemy.\n",
      "  df=pd.read_sql(\"select * from expenses\",connection)\n"
     ]
    }
   ],
   "source": [
    "df=pd.read_sql(\"select * from expenses\",connection)\n",
    "print(df.head())\n",
    "\n",
    "connection.close()"
   ]
  },
  {
   "cell_type": "code",
   "execution_count": 7,
   "id": "e60307e5-57fd-4fe2-82a1-bc6c90ebec9b",
   "metadata": {},
   "outputs": [
    {
     "data": {
      "text/html": [
       "<div>\n",
       "<style scoped>\n",
       "    .dataframe tbody tr th:only-of-type {\n",
       "        vertical-align: middle;\n",
       "    }\n",
       "\n",
       "    .dataframe tbody tr th {\n",
       "        vertical-align: top;\n",
       "    }\n",
       "\n",
       "    .dataframe thead th {\n",
       "        text-align: right;\n",
       "    }\n",
       "</style>\n",
       "<table border=\"1\" class=\"dataframe\">\n",
       "  <thead>\n",
       "    <tr style=\"text-align: right;\">\n",
       "      <th></th>\n",
       "      <th>ID</th>\n",
       "      <th>amount</th>\n",
       "      <th>transfer_amount</th>\n",
       "      <th>receive_amount</th>\n",
       "    </tr>\n",
       "  </thead>\n",
       "  <tbody>\n",
       "    <tr>\n",
       "      <th>count</th>\n",
       "      <td>152.000000</td>\n",
       "      <td>152.000000</td>\n",
       "      <td>152.000000</td>\n",
       "      <td>152.000000</td>\n",
       "    </tr>\n",
       "    <tr>\n",
       "      <th>mean</th>\n",
       "      <td>81.013158</td>\n",
       "      <td>135.677632</td>\n",
       "      <td>1.973684</td>\n",
       "      <td>1.973684</td>\n",
       "    </tr>\n",
       "    <tr>\n",
       "      <th>std</th>\n",
       "      <td>47.312122</td>\n",
       "      <td>155.896748</td>\n",
       "      <td>24.333213</td>\n",
       "      <td>24.333213</td>\n",
       "    </tr>\n",
       "    <tr>\n",
       "      <th>min</th>\n",
       "      <td>1.000000</td>\n",
       "      <td>0.000000</td>\n",
       "      <td>0.000000</td>\n",
       "      <td>0.000000</td>\n",
       "    </tr>\n",
       "    <tr>\n",
       "      <th>25%</th>\n",
       "      <td>40.750000</td>\n",
       "      <td>30.000000</td>\n",
       "      <td>0.000000</td>\n",
       "      <td>0.000000</td>\n",
       "    </tr>\n",
       "    <tr>\n",
       "      <th>50%</th>\n",
       "      <td>79.500000</td>\n",
       "      <td>70.000000</td>\n",
       "      <td>0.000000</td>\n",
       "      <td>0.000000</td>\n",
       "    </tr>\n",
       "    <tr>\n",
       "      <th>75%</th>\n",
       "      <td>122.250000</td>\n",
       "      <td>200.000000</td>\n",
       "      <td>0.000000</td>\n",
       "      <td>0.000000</td>\n",
       "    </tr>\n",
       "    <tr>\n",
       "      <th>max</th>\n",
       "      <td>161.000000</td>\n",
       "      <td>799.000000</td>\n",
       "      <td>300.000000</td>\n",
       "      <td>300.000000</td>\n",
       "    </tr>\n",
       "  </tbody>\n",
       "</table>\n",
       "</div>"
      ],
      "text/plain": [
       "               ID      amount  transfer_amount  receive_amount\n",
       "count  152.000000  152.000000       152.000000      152.000000\n",
       "mean    81.013158  135.677632         1.973684        1.973684\n",
       "std     47.312122  155.896748        24.333213       24.333213\n",
       "min      1.000000    0.000000         0.000000        0.000000\n",
       "25%     40.750000   30.000000         0.000000        0.000000\n",
       "50%     79.500000   70.000000         0.000000        0.000000\n",
       "75%    122.250000  200.000000         0.000000        0.000000\n",
       "max    161.000000  799.000000       300.000000      300.000000"
      ]
     },
     "execution_count": 7,
     "metadata": {},
     "output_type": "execute_result"
    }
   ],
   "source": [
    " # Stats for numeric columns\n",
    "df.describe()"
   ]
  },
  {
   "cell_type": "code",
   "execution_count": 8,
   "id": "2d06f9c9-5bda-41ca-9cb7-5fe86d02f70c",
   "metadata": {},
   "outputs": [
    {
     "name": "stdout",
     "output_type": "stream",
     "text": [
      "<class 'pandas.core.frame.DataFrame'>\n",
      "RangeIndex: 152 entries, 0 to 151\n",
      "Data columns (total 15 columns):\n",
      " #   Column             Non-Null Count  Dtype  \n",
      "---  ------             --------------  -----  \n",
      " 0   ID                 152 non-null    int64  \n",
      " 1   date               152 non-null    object \n",
      " 2   title              152 non-null    object \n",
      " 3   category           152 non-null    object \n",
      " 4   account            152 non-null    object \n",
      " 5   amount             152 non-null    float64\n",
      " 6   currency           152 non-null    object \n",
      " 7   type               152 non-null    object \n",
      " 8   transfer_amount    152 non-null    float64\n",
      " 9   transfer_currency  152 non-null    object \n",
      " 10  to_account         152 non-null    object \n",
      " 11  receive_amount     152 non-null    float64\n",
      " 12  receive_currency   152 non-null    object \n",
      " 13  description        152 non-null    object \n",
      " 14  due_date           0 non-null      object \n",
      "dtypes: float64(3), int64(1), object(11)\n",
      "memory usage: 17.9+ KB\n"
     ]
    }
   ],
   "source": [
    " # Column types, nulls\n",
    "df.info()"
   ]
  },
  {
   "cell_type": "code",
   "execution_count": 24,
   "id": "00e9076c-357c-410a-8f6f-a12c7061a8d0",
   "metadata": {},
   "outputs": [
    {
     "data": {
      "text/plain": [
       "'C:\\\\Users\\\\ASUS'"
      ]
     },
     "execution_count": 24,
     "metadata": {},
     "output_type": "execute_result"
    }
   ],
   "source": [
    "import os\n",
    "os.getcwd()"
   ]
  },
  {
   "cell_type": "code",
   "execution_count": 9,
   "id": "50de5d78-de8c-4f51-8d8a-e8405ccaad02",
   "metadata": {},
   "outputs": [
    {
     "data": {
      "text/plain": [
       "(152, 15)"
      ]
     },
     "execution_count": 9,
     "metadata": {},
     "output_type": "execute_result"
    }
   ],
   "source": [
    "#rows ,colums\n",
    "df.shape"
   ]
  },
  {
   "cell_type": "code",
   "execution_count": 10,
   "id": "7375a1d0-11d3-4fe2-98a7-3f122b08852f",
   "metadata": {},
   "outputs": [
    {
     "data": {
      "text/html": [
       "<div>\n",
       "<style scoped>\n",
       "    .dataframe tbody tr th:only-of-type {\n",
       "        vertical-align: middle;\n",
       "    }\n",
       "\n",
       "    .dataframe tbody tr th {\n",
       "        vertical-align: top;\n",
       "    }\n",
       "\n",
       "    .dataframe thead th {\n",
       "        text-align: right;\n",
       "    }\n",
       "</style>\n",
       "<table border=\"1\" class=\"dataframe\">\n",
       "  <thead>\n",
       "    <tr style=\"text-align: right;\">\n",
       "      <th></th>\n",
       "      <th>ID</th>\n",
       "      <th>date</th>\n",
       "      <th>title</th>\n",
       "      <th>category</th>\n",
       "      <th>account</th>\n",
       "      <th>amount</th>\n",
       "      <th>currency</th>\n",
       "      <th>type</th>\n",
       "      <th>transfer_amount</th>\n",
       "      <th>transfer_currency</th>\n",
       "      <th>to_account</th>\n",
       "      <th>receive_amount</th>\n",
       "      <th>receive_currency</th>\n",
       "      <th>description</th>\n",
       "      <th>due_date</th>\n",
       "    </tr>\n",
       "  </thead>\n",
       "  <tbody>\n",
       "    <tr>\n",
       "      <th>0</th>\n",
       "      <td>1</td>\n",
       "      <td>2024-08-11</td>\n",
       "      <td>Karthik</td>\n",
       "      <td>Bills &amp; Fees</td>\n",
       "      <td>Savings Bank</td>\n",
       "      <td>45.0</td>\n",
       "      <td>INR</td>\n",
       "      <td>EXPENSE</td>\n",
       "      <td>0.0</td>\n",
       "      <td>None</td>\n",
       "      <td>None</td>\n",
       "      <td>0.0</td>\n",
       "      <td>None</td>\n",
       "      <td>No-description</td>\n",
       "      <td>None</td>\n",
       "    </tr>\n",
       "    <tr>\n",
       "      <th>1</th>\n",
       "      <td>2</td>\n",
       "      <td>2024-08-10</td>\n",
       "      <td>Juice</td>\n",
       "      <td>Food &amp; Drinks</td>\n",
       "      <td>Cash</td>\n",
       "      <td>40.0</td>\n",
       "      <td>INR</td>\n",
       "      <td>EXPENSE</td>\n",
       "      <td>0.0</td>\n",
       "      <td>None</td>\n",
       "      <td>None</td>\n",
       "      <td>0.0</td>\n",
       "      <td>None</td>\n",
       "      <td>No-description</td>\n",
       "      <td>None</td>\n",
       "    </tr>\n",
       "    <tr>\n",
       "      <th>2</th>\n",
       "      <td>3</td>\n",
       "      <td>2024-08-09</td>\n",
       "      <td>Tire</td>\n",
       "      <td>Transport</td>\n",
       "      <td>Cash</td>\n",
       "      <td>10.0</td>\n",
       "      <td>INR</td>\n",
       "      <td>EXPENSE</td>\n",
       "      <td>0.0</td>\n",
       "      <td>None</td>\n",
       "      <td>None</td>\n",
       "      <td>0.0</td>\n",
       "      <td>None</td>\n",
       "      <td>No-description</td>\n",
       "      <td>None</td>\n",
       "    </tr>\n",
       "    <tr>\n",
       "      <th>3</th>\n",
       "      <td>4</td>\n",
       "      <td>2024-08-07</td>\n",
       "      <td>Baba</td>\n",
       "      <td>Bills &amp; Fees</td>\n",
       "      <td>Savings Bank</td>\n",
       "      <td>200.0</td>\n",
       "      <td>INR</td>\n",
       "      <td>EXPENSE</td>\n",
       "      <td>0.0</td>\n",
       "      <td>None</td>\n",
       "      <td>None</td>\n",
       "      <td>0.0</td>\n",
       "      <td>None</td>\n",
       "      <td>No-description</td>\n",
       "      <td>None</td>\n",
       "    </tr>\n",
       "    <tr>\n",
       "      <th>4</th>\n",
       "      <td>5</td>\n",
       "      <td>2024-08-04</td>\n",
       "      <td>Reward</td>\n",
       "      <td>Bills &amp; Fees</td>\n",
       "      <td>Salary Bank</td>\n",
       "      <td>4.0</td>\n",
       "      <td>INR</td>\n",
       "      <td>INCOME</td>\n",
       "      <td>0.0</td>\n",
       "      <td>None</td>\n",
       "      <td>None</td>\n",
       "      <td>0.0</td>\n",
       "      <td>None</td>\n",
       "      <td>No-description</td>\n",
       "      <td>None</td>\n",
       "    </tr>\n",
       "  </tbody>\n",
       "</table>\n",
       "</div>"
      ],
      "text/plain": [
       "   ID        date    title       category       account  amount currency  \\\n",
       "0   1  2024-08-11  Karthik   Bills & Fees  Savings Bank    45.0      INR   \n",
       "1   2  2024-08-10    Juice  Food & Drinks          Cash    40.0      INR   \n",
       "2   3  2024-08-09     Tire      Transport          Cash    10.0      INR   \n",
       "3   4  2024-08-07     Baba   Bills & Fees  Savings Bank   200.0      INR   \n",
       "4   5  2024-08-04   Reward   Bills & Fees   Salary Bank     4.0      INR   \n",
       "\n",
       "      type  transfer_amount transfer_currency to_account  receive_amount  \\\n",
       "0  EXPENSE              0.0              None       None             0.0   \n",
       "1  EXPENSE              0.0              None       None             0.0   \n",
       "2  EXPENSE              0.0              None       None             0.0   \n",
       "3  EXPENSE              0.0              None       None             0.0   \n",
       "4   INCOME              0.0              None       None             0.0   \n",
       "\n",
       "  receive_currency     description due_date  \n",
       "0             None  No-description     None  \n",
       "1             None  No-description     None  \n",
       "2             None  No-description     None  \n",
       "3             None  No-description     None  \n",
       "4             None  No-description     None  "
      ]
     },
     "execution_count": 10,
     "metadata": {},
     "output_type": "execute_result"
    }
   ],
   "source": [
    " # Preview first 5 rows\n",
    "df.head()     "
   ]
  },
  {
   "cell_type": "code",
   "execution_count": 13,
   "id": "b5151d3a-f83c-4982-b287-6602045bd250",
   "metadata": {},
   "outputs": [
    {
     "data": {
      "text/plain": [
       "ID                     0\n",
       "date                   0\n",
       "title                  0\n",
       "category               0\n",
       "account                0\n",
       "amount                 0\n",
       "currency               0\n",
       "type                   0\n",
       "transfer_amount        0\n",
       "transfer_currency      0\n",
       "to_account             0\n",
       "receive_amount         0\n",
       "receive_currency       0\n",
       "description            0\n",
       "due_date             152\n",
       "dtype: int64"
      ]
     },
     "execution_count": 13,
     "metadata": {},
     "output_type": "execute_result"
    }
   ],
   "source": [
    "#checking null values\n",
    "df.isnull().sum()"
   ]
  },
  {
   "cell_type": "code",
   "execution_count": null,
   "id": "965a5103-3569-443a-a4d1-20f9207bfb8e",
   "metadata": {},
   "outputs": [],
   "source": [
    "#: Compare how much money you earned vs how much you spent."
   ]
  },
  {
   "cell_type": "code",
   "execution_count": 30,
   "id": "7271704c-d0f3-45ed-b063-3c8f53762967",
   "metadata": {},
   "outputs": [
    {
     "data": {
      "text/plain": [
       "<Axes: xlabel='type'>"
      ]
     },
     "execution_count": 30,
     "metadata": {},
     "output_type": "execute_result"
    },
    {
     "data": {
      "image/png": "[encoded data removed]",
      "text/plain": [
       "<Figure size 640x480 with 1 Axes>"
      ]
     },
     "metadata": {},
     "output_type": "display_data"
    }
   ],
   "source": [
    "#: Compare how much money you earned vs how much you spent.\n",
    "df.groupby('type')['amount'].sum().plot(kind='bar', color=['yellow','red'])"
   ]
  },
  {
   "cell_type": "code",
   "execution_count": null,
   "id": "155666b5-672a-40d1-bfcd-237cf4d9f851",
   "metadata": {},
   "outputs": [],
   "source": [
    "# Find which categories you spend the most on"
   ]
  },
  {
   "cell_type": "code",
   "execution_count": 31,
   "id": "ed292a3b-abfd-45c8-85d6-1fed70e234bd",
   "metadata": {},
   "outputs": [
    {
     "data": {
      "text/plain": [
       "<Axes: xlabel='category'>"
      ]
     },
     "execution_count": 31,
     "metadata": {},
     "output_type": "execute_result"
    },
    {
     "data": {
      "image/png": "[encoded data removed]",
      "text/plain": [
       "<Figure size 1000x500 with 1 Axes>"
      ]
     },
     "metadata": {},
     "output_type": "display_data"
    }
   ],
   "source": [
    "# Find which categories you spend the most on\n",
    "expense_df = df[df['type'] == 'EXPENSE']\n",
    "top_categories = expense_df.groupby('category')['amount'].sum().sort_values(ascending=False)\n",
    "\n",
    "top_categories.plot(kind='bar', figsize=(10,5), color='orange')\n"
   ]
  },
  {
   "cell_type": "code",
   "execution_count": null,
   "id": "9b4e195c-1c89-4d22-961f-8ae72405bcf5",
   "metadata": {},
   "outputs": [],
   "source": [
    "#See which months had high or low spending"
   ]
  },
  {
   "cell_type": "code",
   "execution_count": 25,
   "id": "07c42c18-708b-4dfe-a0f5-8554029a5644",
   "metadata": {},
   "outputs": [
    {
     "data": {
      "text/plain": [
       "<Axes: xlabel='month'>"
      ]
     },
     "execution_count": 25,
     "metadata": {},
     "output_type": "execute_result"
    },
    {
     "data": {
      "image/png": "[encoded data removed]",
      "text/plain": [
       "<Figure size 640x480 with 1 Axes>"
      ]
     },
     "metadata": {},
     "output_type": "display_data"
    }
   ],
   "source": [
    "#See which months had high or low spending\n",
    "\n",
    "df['date'] = pd.to_datetime(df['date'])  # convert to date type\n",
    "df['month'] = df['date'].dt.to_period('M')\n",
    "df[df['type'] == 'EXPENSE'].groupby('month')['amount'].sum().plot(kind='line')\n",
    "\n"
   ]
  },
  {
   "cell_type": "code",
   "execution_count": null,
   "id": "55d5c933-f9a4-4c51-871e-1fa15268e193",
   "metadata": {},
   "outputs": [],
   "source": [
    "# Which categories do I spend on most frequently?"
   ]
  },
  {
   "cell_type": "code",
   "execution_count": 26,
   "id": "35e1638f-5333-48e0-8544-eec153657275",
   "metadata": {},
   "outputs": [
    {
     "data": {
      "text/plain": [
       "<Axes: xlabel='category'>"
      ]
     },
     "execution_count": 26,
     "metadata": {},
     "output_type": "execute_result"
    },
    {
     "data": {
      "image/png": "[encoded data removed]",
      "text/plain": [
       "<Figure size 640x480 with 1 Axes>"
      ]
     },
     "metadata": {},
     "output_type": "display_data"
    }
   ],
   "source": [
    "# Which categories do I spend on most frequently?\n",
    "\n",
    "expense_df['category'].value_counts().plot(kind='bar')\n"
   ]
  },
  {
   "cell_type": "code",
   "execution_count": null,
   "id": "6bb6ffd5-2315-4233-a2c2-f6d6adf2d3fc",
   "metadata": {},
   "outputs": [],
   "source": [
    "# Show how your money adds up month by month"
   ]
  },
  {
   "cell_type": "code",
   "execution_count": 34,
   "id": "dd06826e-0bb0-49cd-9e80-1f38b761c969",
   "metadata": {},
   "outputs": [
    {
     "data": {
      "image/png": "[encoded data removed]",
      "text/plain": [
       "<Figure size 1000x500 with 1 Axes>"
      ]
     },
     "metadata": {},
     "output_type": "display_data"
    }
   ],
   "source": [
    "# Show how your money adds up month by month\n",
    "\n",
    "# Create a new column called 'net'\n",
    "\n",
    "df['net'] = df.apply(lambda row: row['amount'] if row['type'] == 'INCOME' else -row['amount'], axis=1)\n",
    "\n",
    "# Step 2: Extract the month from the date\n",
    "df['month'] = df['date'].dt.to_period('M')\n",
    "\n",
    "# Step 3: Group by month and sum the net savings\n",
    "monthly_savings = df.groupby('month')['net'].sum()\n",
    "\n",
    "# Step 4: Calculate the cumulative savings over time\n",
    "cumulative_savings = monthly_savings.cumsum()\n",
    "\n",
    "# Step 5: Plot the cumulative savings\n",
    "cumulative_savings.plot(kind='line', marker='o', figsize=(10,5), color='green')\n",
    "plt.title(\"Cumulative Savings Over Time\")\n",
    "plt.xlabel(\"Month\")\n",
    "plt.ylabel(\"Savings (₹)\")\n",
    "plt.grid(True)\n",
    "plt.xticks(rotation=45)\n",
    "plt.show()\n",
    "\n"
   ]
  },
  {
   "cell_type": "code",
   "execution_count": null,
   "id": "221fc5c7-5609-4be6-8d0e-808ef3a92dbb",
   "metadata": {},
   "outputs": [],
   "source": []
  }
 ],
 "metadata": {
  "kernelspec": {
   "display_name": "Python 3 (ipykernel)",
   "language": "python",
   "name": "python3"
  },
  "language_info": {
   "codemirror_mode": {
    "name": "ipython",
    "version": 3
   },
   "file_extension": ".py",
   "mimetype": "text/x-python",
   "name": "python",
   "nbconvert_exporter": "python",
   "pygments_lexer": "ipython3",
   "version": "3.12.7"
  }
 },
 "nbformat": 4,
 "nbformat_minor": 5
}
